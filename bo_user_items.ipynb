{
 "cells": [
  {
   "cell_type": "code",
   "execution_count": 1,
   "metadata": {},
   "outputs": [],
   "source": [
    "import requests\n",
    "from bs4 import BeautifulSoup\n",
    "import urllib.request\n",
    "import pandas as pd\n",
    "import ast\n",
    "pd.options.display.max_columns = 999"
   ]
  },
  {
   "cell_type": "code",
   "execution_count": 2,
   "metadata": {},
   "outputs": [],
   "source": [
    "def scrap (id):\n",
    "    url = 'https://brainout.org/user/' + str(id)\n",
    "    response = requests.get(url)\n",
    "    soup = BeautifulSoup(response.text, 'html.parser')\n",
    "    #68 lvl check\n",
    "    level = soup.find('p', {'class': \"text-yellow\"})\n",
    "    if level == None:\n",
    "        return None\n",
    "    else:\n",
    "        level_str = level.prettify().split('\\n')[1]\n",
    "        level_int = int(level_str[-2:])\n",
    "        if level_int < 20:\n",
    "            return None\n",
    "    \n",
    "    script_all = soup.findAll('script', type='application/javascript')\n",
    "    \n",
    "    user_stats = script_all[-1].prettify()\n",
    "    \n",
    "    start_with_items = user_stats.find('USER_ITEMS')\n",
    "    \n",
    "    start_with = user_stats.find('{',start_with_items)\n",
    "    end_with = user_stats.find('}',start_with_items)\n",
    "    cut_user_items = user_stats[start_with:end_with+1]\n",
    "    cut_user_items = cut_user_items.replace('null', '0' )\n",
    "    try:\n",
    "        dict_of_stats = ast.literal_eval(cut_user_items)\n",
    "    except ValueError:\n",
    "        print(id)\n",
    "        return None\n",
    "    waste_columns = ['upgrade-','skin-weapon-','sl-','profile-badge-',\"quest-\"]\n",
    "    \n",
    "    unique_skins = [\"skin-weapon-m4a1-desert-gum\",\"skin-weapon-an94-male\",\"skin-weapon-aswal-valentine\",\n",
    "                    \"skin-weapon-g3-arsen\",\"skin-instrument-guitar-halloween\"]\n",
    "    unique_forms = [\"sl-skin-emg\",\"sl-skin-fs\",\"sl-skin-vgs\",\"sl-skin-hunter\",\"sl-skin-omon\", \n",
    "                    \"sl-skin-pumpkin\", \"sl-skin-frost\" ,\"sl-skin-xmas\", \"sl-skin-doctor\",\"sl-skin-mariachi\",\"sl-skin-2cher\"\n",
    "                   \"sl-skin-fsg\",\"sl-skin-gentleman\", \"skin-player-new\", \"sl-skin-clown\", \"sl-skin-hunt\", \"sl-skin-spectator\",\n",
    "                   \"sl-skin-unk\", \"sl-pl-anon\"]\n",
    "    unique_weapons = [\"sl-pri-pdrc\",\"sl-pri-g36c\",\"sl-pri-g36c2\",\"sl-pri-kiparis\",\"sl-pri-mp7\",\"sl-pri-p91\",\n",
    "                     \"sl-pri-six12\",\"sl-pri-svt40\",\"sl-pri-scout\", \n",
    "                      \"sl-pri-water\", \"sl-pri-paint\",\"sl-pri-snowball-blaster\",\"sl-pri-serf\"]\n",
    "    unique_sec = [\"sl-sec-baltiets\", \"sl-sec-scorpion\", \"sl-sec-jericho\"]\n",
    "    unique_knifes = [\"sl-ml-knife-hardened\",\"sl-ml-knife-woe\", \"sl-ml-knife-executor\", \n",
    "                     \"sl-ml-knife-premium\", \"sl-ml-knife-puma\",\"sl-ml-knife-toyhammer\",\"sl-ml-knife-trench\"]\n",
    "    unique_profile = ['profile-badge-halloween-1','profile-badge-halloween-2',\"profile-badge-drawbot\",\"profile-badge-a\"\n",
    "                     \"profile-badge-bo\", \"profile-badge-radiation\", \"profile-badge-skull\", \"profile-badge-star\"]\n",
    "    final_fp = [\"quest-deal-1\",\"quest-expired-goods-9\",'quest-first-aid-4',]\n",
    "    unique = unique_skins + unique_forms + unique_weapons + unique_sec + unique_knifes + unique_profile + final_fp\n",
    "    future_deleted_columns =[]\n",
    "    achiev_counter = 0\n",
    "    for key in dict_of_stats:\n",
    "        if key.startswith(tuple(waste_columns)):\n",
    "            if key in tuple(unique):\n",
    "                pass\n",
    "            else:\n",
    "                future_deleted_columns.append(key)\n",
    "        elif key.startswith('achievement-'):\n",
    "            achiev_counter += 1\n",
    "            future_deleted_columns.append(key)\n",
    "    for key in future_deleted_columns:\n",
    "        del dict_of_stats[key]\n",
    "    dict_of_stats['achievement-counter'] = achiev_counter\n",
    "    dict_of_stats['level'] = level_int\n",
    "    df_user = pd.DataFrame(dict_of_stats, index=[id])\n",
    "    return df_user"
   ]
  },
  {
   "cell_type": "code",
   "execution_count": 3,
   "metadata": {},
   "outputs": [],
   "source": [
    "import numpy as np\n",
    "n = 1029000\n",
    "ids = np.arange(1,n)"
   ]
  },
  {
   "cell_type": "code",
   "execution_count": 4,
   "metadata": {
    "scrolled": true
   },
   "outputs": [
    {
     "name": "stdout",
     "output_type": "stream",
     "text": [
      "Wall time: 3h 52min 1s\n"
     ]
    }
   ],
   "source": [
    "%%time\n",
    "import multiprocessing.dummy as multiprocessing\n",
    "\n",
    "p = multiprocessing.Pool(50)\n",
    "\n",
    "results = p.map(scrap,ids)\n",
    "p.close()\n",
    "p.join()"
   ]
  },
  {
   "cell_type": "code",
   "execution_count": 5,
   "metadata": {},
   "outputs": [
    {
     "name": "stdout",
     "output_type": "stream",
     "text": [
      "Wall time: 2min 56s\n"
     ]
    }
   ],
   "source": [
    "%%time\n",
    "user_items = list()\n",
    "for i in range(1000):\n",
    "    k = n//1000\n",
    "    if i == 999:\n",
    "        user_items.append(pd.concat(results[i*k:-1],sort=False))\n",
    "    else:\n",
    "        user_items.append(pd.concat(results[i*k:(i+1)*k],sort=False))"
   ]
  },
  {
   "cell_type": "code",
   "execution_count": 6,
   "metadata": {},
   "outputs": [
    {
     "name": "stdout",
     "output_type": "stream",
     "text": [
      "Wall time: 10.2 s\n"
     ]
    }
   ],
   "source": [
    "%%time\n",
    "items_final = pd.concat(user_items,sort = False)"
   ]
  },
  {
   "cell_type": "code",
   "execution_count": 7,
   "metadata": {},
   "outputs": [],
   "source": [
    "items_final.to_csv('items_final.csv',index = False)"
   ]
  },
  {
   "cell_type": "code",
   "execution_count": null,
   "metadata": {},
   "outputs": [],
   "source": []
  }
 ],
 "metadata": {
  "kernelspec": {
   "display_name": "Python 3",
   "language": "python",
   "name": "python3"
  },
  "language_info": {
   "codemirror_mode": {
    "name": "ipython",
    "version": 3
   },
   "file_extension": ".py",
   "mimetype": "text/x-python",
   "name": "python",
   "nbconvert_exporter": "python",
   "pygments_lexer": "ipython3",
   "version": "3.7.4"
  }
 },
 "nbformat": 4,
 "nbformat_minor": 2
}
